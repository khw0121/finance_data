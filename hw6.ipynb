{
 "cells": [
  {
   "cell_type": "code",
   "execution_count": 1,
   "id": "5c7f419b-e320-475f-a5bd-fd6fb3c91002",
   "metadata": {},
   "outputs": [
    {
     "name": "stderr",
     "output_type": "stream",
     "text": [
      "100%|██████████████████████████████████████████████████████████████████████████████████| 50/50 [00:04<00:00, 11.15it/s]\n",
      "100%|████████████████████████████████████████████████████████████████████████████████| 50/50 [00:00<00:00, 8223.80it/s]\n"
     ]
    }
   ],
   "source": [
    "import sys\n",
    "!{sys.executable} -m pip install opendartreader finance-datareader plotly tqdm --quiet\n",
    "import FinanceDataReader as fdr\n",
    "import pandas as pd\n",
    "from tqdm import tqdm\n",
    "import OpenDartReader\n",
    "\n",
    "dart = OpenDartReader('d74227e34998d564a9671c471b27b9c7701d3d03')  \n",
    "\n",
    "kospi = fdr.StockListing('KOSPI')\n",
    "kospi_top50 = kospi.sort_values(by='Marcap', ascending=False).head(50)\n",
    "df = kospi_top50[['Code', 'Name']].copy()\n",
    "\n",
    "corp_codes = []\n",
    "for code, name in tqdm(zip(df['Code'], df['Name']), total=len(df)):\n",
    "    try:\n",
    "        corp = dart.company(code)\n",
    "        corp_code = corp['corp_code']\n",
    "    except:\n",
    "        corp_code = ''\n",
    "    corp_codes.append(corp_code)\n",
    "\n",
    "df['DART_code'] = corp_codes\n",
    "\n",
    "records = []\n",
    "\n",
    "for i, row in tqdm(df.iterrows(), total=len(df)):\n",
    "    code = row['Code']\n",
    "    name = row['Name']\n",
    "    dart_code = row['DART_code']\n",
    "\n",
    "    for year in range(2015, 2025):\n",
    "        try:\n",
    "            if dart_code == '':\n",
    "                if name.endswith(\"우\"):\n",
    "                    target_name = name[:-1]\n",
    "                    preferred = True\n",
    "                else:\n",
    "                    target_name = name\n",
    "                    preferred = False\n",
    "\n",
    "                report_df = dart.report(year=year, name=target_name)\n",
    "                if report_df is None or report_df.empty:\n",
    "                    continue\n",
    "                if preferred:\n",
    "                    report_df = report_df[report_df['stock_knd'].str.contains('우', na=False)]\n",
    "                else:\n",
    "                    report_df = report_df[report_df['stock_knd'].str.contains('보통주', na=False)]\n",
    "            else:\n",
    "                report_df = dart.report(year=year, corp_code=dart_code)\n",
    "                if report_df is None or report_df.empty:\n",
    "                    continue\n",
    "                report_df = report_df[report_df['stock_knd'].str.contains('보통주', na=False)]\n",
    "\n",
    "            report_df = report_df.dropna(subset=['cash_dvdn', 'eps'])\n",
    "            if len(report_df) > 0:\n",
    "                cash_dvdn = int(report_df.iloc[0]['cash_dvdn'])\n",
    "                eps = int(report_df.iloc[0]['eps'])\n",
    "                payout_ratio = cash_dvdn / eps if eps != 0 else 0\n",
    "                records.append({\n",
    "                    'Code': code,\n",
    "                    'Name': name,\n",
    "                    'DART_code': dart_code,\n",
    "                    '회계연도': year,\n",
    "                    '주당현금배당금액': cash_dvdn,\n",
    "                    '주당순이익': eps,\n",
    "                    '배당성향': round(payout_ratio, 6)\n",
    "                })\n",
    "        except Exception as e:\n",
    "            continue\n",
    "\n",
    "result_df = pd.DataFrame(records)\n",
    "\n",
    "result_df.to_excel('숙제6.xlsx', index=False)"
   ]
  },
  {
   "cell_type": "code",
   "execution_count": null,
   "id": "b915fb26-6adf-49c7-8227-58b7055e963a",
   "metadata": {},
   "outputs": [],
   "source": []
  }
 ],
 "metadata": {
  "kernelspec": {
   "display_name": "Python 3 (ipykernel)",
   "language": "python",
   "name": "python3"
  },
  "language_info": {
   "codemirror_mode": {
    "name": "ipython",
    "version": 3
   },
   "file_extension": ".py",
   "mimetype": "text/x-python",
   "name": "python",
   "nbconvert_exporter": "python",
   "pygments_lexer": "ipython3",
   "version": "3.12.7"
  }
 },
 "nbformat": 4,
 "nbformat_minor": 5
}

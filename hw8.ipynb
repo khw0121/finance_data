{
 "cells": [
  {
   "cell_type": "code",
   "execution_count": 3,
   "id": "1401b604-029d-417d-916c-57034de4cb6d",
   "metadata": {},
   "outputs": [
    {
     "name": "stdout",
     "output_type": "stream",
     "text": [
      "          언론사                                               뉴스제목  \\\n",
      "0       헤럴드경제  “회당 출연료 5억, 너무 심하다했더니” 일본의 10배 ‘충격 실상’…결국 OTT ...   \n",
      "1       헤럴드경제                “성병 옮기고 폭행까지”…유명 남배우, 연인 폭로에 “허위사실”   \n",
      "2       헤럴드경제              李 47.3%-金 39.6%…7.7%P 격차 더 좁혀졌다 [數싸움]   \n",
      "3       헤럴드경제       “이것이 현실” 母의사 근무 병원에 자녀 9명 시신 응급실로…‘비극’ 무슨 일이   \n",
      "4       헤럴드경제            “에이 젊은이, 약이라니까” 양귀비 밀경 또 어르신이 잡혔다 [세상&]   \n",
      "..        ...                                                ...   \n",
      "388  중앙SUNDAY                                    [오늘의 운세] 5월 25일   \n",
      "389  중앙SUNDAY                    위안화 약세 꾀하는 중국, 약달러 노리는 미국…환율전쟁?   \n",
      "390  중앙SUNDAY                            [선데이 칼럼] “한국은 협상카드가 많다”   \n",
      "391  중앙SUNDAY                            [ON 선데이] 야구 유니폼과 선거 운동복   \n",
      "392  중앙SUNDAY                             뛰는 집값 기는 출산율, 둘 다 잡으려면   \n",
      "\n",
      "                                                  뉴스링크  \n",
      "0    https://n.news.naver.com/article/016/000247574...  \n",
      "1    https://n.news.naver.com/article/016/000247579...  \n",
      "2    https://n.news.naver.com/article/016/000247587...  \n",
      "3    https://n.news.naver.com/article/016/000247590...  \n",
      "4    https://n.news.naver.com/article/016/000247590...  \n",
      "..                                                 ...  \n",
      "388  https://n.news.naver.com/article/353/000005169...  \n",
      "389  https://n.news.naver.com/article/353/000005172...  \n",
      "390  https://n.news.naver.com/article/353/000005170...  \n",
      "391  https://n.news.naver.com/article/353/000005170...  \n",
      "392  https://n.news.naver.com/article/353/000005172...  \n",
      "\n",
      "[393 rows x 3 columns]\n"
     ]
    }
   ],
   "source": [
    "import requests\n",
    "from bs4 import BeautifulSoup\n",
    "import pandas as pd\n",
    "\n",
    "# 1. Naver 랭킹뉴스 페이지 요청\n",
    "url = \"https://news.naver.com/main/ranking/popularDay.naver\"\n",
    "headers = {\"User-Agent\": \"Mozilla/5.0\"}  # 필수 헤더\n",
    "response = requests.get(url, headers=headers)\n",
    "soup = BeautifulSoup(response.text, \"html.parser\")\n",
    "\n",
    "# 2. 전체 뉴스 블록 가져오기\n",
    "div_all = soup.find_all(\"div\", class_=\"rankingnews_box\")\n",
    "\n",
    "# 3. 결과 저장용 리스트\n",
    "press_list = []\n",
    "title_list = []\n",
    "link_list = []\n",
    "\n",
    "# 4. 언론사, 뉴스 제목, 링크 크롤링\n",
    "for div in div_all:\n",
    "    press_tag = div.find(\"strong\", attrs={\"class\": \"rankingnews_name\"})\n",
    "    if not press_tag:\n",
    "        continue  # 언론사 없는 경우 스킵\n",
    "    press_name = press_tag.text.strip()\n",
    "\n",
    "    li_list = div.find_all(\"li\")\n",
    "    for li in li_list:\n",
    "        news_tag = li.find(\"a\")\n",
    "        if not news_tag:\n",
    "            continue  # 뉴스 항목 없는 경우 스킵\n",
    "        press_list.append(press_name)\n",
    "        title_list.append(news_tag.text.strip())\n",
    "        link_list.append(news_tag[\"href\"])\n",
    "\n",
    "# 5. 데이터프레임 생성\n",
    "df = pd.DataFrame({\n",
    "    \"언론사\": press_list,\n",
    "    \"뉴스제목\": title_list,\n",
    "    \"뉴스링크\": link_list\n",
    "})\n",
    "\n",
    "# 6. 데이터프레임 출력 (선택)\n",
    "print(df)\n",
    "\n",
    "# 7. 엑셀 파일로 저장\n",
    "df.to_excel(\"숙제7.xlsx\", index=False)"
   ]
  },
  {
   "cell_type": "code",
   "execution_count": null,
   "id": "b8ffcd6b-f1f2-4952-8013-d200b47c0503",
   "metadata": {},
   "outputs": [],
   "source": []
  }
 ],
 "metadata": {
  "kernelspec": {
   "display_name": "Python 3 (ipykernel)",
   "language": "python",
   "name": "python3"
  },
  "language_info": {
   "codemirror_mode": {
    "name": "ipython",
    "version": 3
   },
   "file_extension": ".py",
   "mimetype": "text/x-python",
   "name": "python",
   "nbconvert_exporter": "python",
   "pygments_lexer": "ipython3",
   "version": "3.12.7"
  }
 },
 "nbformat": 4,
 "nbformat_minor": 5
}

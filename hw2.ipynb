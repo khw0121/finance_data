{
 "cells": [
  {
   "cell_type": "code",
   "execution_count": 2,
   "id": "f4442aea-9c80-4440-aacc-de966d88e9f4",
   "metadata": {},
   "outputs": [
    {
     "name": "stdout",
     "output_type": "stream",
     "text": [
      "1. 짜장면 - 8000원 \n",
      "2. 짬뽕 - 9000원 \n",
      "3. 탕수육 - 13000원\n"
     ]
    }
   ],
   "source": [
    "print(\"1. 짜장면 - 8000원 \\n2. 짬뽕 - 9000원 \\n3. 탕수육 - 13000원\")"
   ]
  },
  {
   "cell_type": "code",
   "execution_count": null,
   "id": "9d49bcc0-e6a9-43fd-ac5c-e33aa6f5dc55",
   "metadata": {},
   "outputs": [
    {
     "name": "stdout",
     "output_type": "stream",
     "text": [
      "1. 짜장면 - 8000원 \n",
      "2. 짬뽕 - 9000원 \n",
      "3. 탕수육 - 13000원\n"
     ]
    },
    {
     "name": "stdin",
     "output_type": "stream",
     "text": [
      "메뉴를 숫자로 선택하시오 (기본: 1):  \n",
      "\n",
      "짜장면 몇 개를 주문하시겠습니까? (기본: 1):  \n",
      "\n",
      "짜장면 1개 주문. 총 8000원입니다. 주문을 마치겠습니까? (y/n):  \n"
     ]
    },
    {
     "name": "stdout",
     "output_type": "stream",
     "text": [
      "\n",
      "다시 주문을 진행합니다.\n",
      "\n"
     ]
    },
    {
     "name": "stdin",
     "output_type": "stream",
     "text": [
      "메뉴를 숫자로 선택하시오 (기본: 1):  1\n",
      "\n",
      "짜장면 몇 개를 주문하시겠습니까? (기본: 1):  3\n",
      "\n",
      "짜장면 3개 주문. 총 24000원입니다. 주문을 마치겠습니까? (y/n):  \n"
     ]
    },
    {
     "name": "stdout",
     "output_type": "stream",
     "text": [
      "\n",
      "다시 주문을 진행합니다.\n",
      "\n"
     ]
    },
    {
     "name": "stdin",
     "output_type": "stream",
     "text": [
      "메뉴를 숫자로 선택하시오 (기본: 1):  4\n"
     ]
    },
    {
     "name": "stdout",
     "output_type": "stream",
     "text": [
      "잘못된 메뉴 번호입니다. 다시 입력해주세요.\n"
     ]
    },
    {
     "name": "stdin",
     "output_type": "stream",
     "text": [
      "메뉴를 숫자로 선택하시오 (기본: 1):  \n",
      "\n",
      "짜장면 몇 개를 주문하시겠습니까? (기본: 1):  \n",
      "\n",
      "짜장면 1개 주문. 총 8000원입니다. 주문을 마치겠습니까? (y/n):  \n"
     ]
    },
    {
     "name": "stdout",
     "output_type": "stream",
     "text": [
      "\n",
      "다시 주문을 진행합니다.\n",
      "\n"
     ]
    },
    {
     "name": "stdin",
     "output_type": "stream",
     "text": [
      "메뉴를 숫자로 선택하시오 (기본: 1):  2\n",
      "\n",
      "짬뽕 몇 개를 주문하시겠습니까? (기본: 1):  1\n",
      "\n",
      "짬뽕 1개 주문. 총 9000원입니다. 주문을 마치겠습니까? (y/n):  ㅜ\n"
     ]
    },
    {
     "name": "stdout",
     "output_type": "stream",
     "text": [
      "\n",
      "다시 주문을 진행합니다.\n",
      "\n"
     ]
    },
    {
     "name": "stdin",
     "output_type": "stream",
     "text": [
      "메뉴를 숫자로 선택하시오 (기본: 1):  \n",
      "\n",
      "짜장면 몇 개를 주문하시겠습니까? (기본: 1):  2\n",
      "\n",
      "짜장면 2개 주문. 총 16000원입니다. 주문을 마치겠습니까? (y/n):  n\n"
     ]
    },
    {
     "name": "stdout",
     "output_type": "stream",
     "text": [
      "\n",
      "다시 주문을 진행합니다.\n",
      "\n"
     ]
    },
    {
     "name": "stdin",
     "output_type": "stream",
     "text": [
      "메뉴를 숫자로 선택하시오 (기본: 1):  3\n",
      "\n",
      "탕수육 몇 개를 주문하시겠습니까? (기본: 1):  2\n"
     ]
    }
   ],
   "source": [
    "print(\"1. 짜장면 - 8000원 \\n2. 짬뽕 - 9000원 \\n3. 탕수육 - 13000원\")\n",
    "\n",
    "menu = {\n",
    "    1: (\"짜장면\", 8000),\n",
    "    2: (\"짬뽕\", 9000),\n",
    "    3: (\"탕수육\", 13000)\n",
    "}\n",
    "\n",
    "while True:\n",
    "    a = input(\"메뉴를 숫자로 선택하시오 (기본: 1): \") or \"1\"\n",
    "    \n",
    "    if not a.isdigit() or int(a) not in menu:\n",
    "        print(\"잘못된 메뉴 번호입니다. 다시 입력해주세요.\")\n",
    "        continue\n",
    "    \n",
    "    a = int(a)\n",
    "    menu_name, menu_price = menu[a]\n",
    "    \n",
    "    b = input(f\"\\n{menu_name} 몇 개를 주문하시겠습니까? (기본: 1): \") or \"1\"\n",
    "    \n",
    "    if not b.isdigit() or int(b) <= 0:\n",
    "        print(\"잘못된 주문 갯수입니다. 다시 입력해주세요.\")\n",
    "        continue\n",
    "    \n",
    "    b = int(b)\n",
    "    total_price = menu_price * b\n",
    "    \n",
    "    confirm = input(f\"\\n{menu_name} {b}개 주문. 총 {total_price}원입니다. 주문을 마치겠습니까? (y/n): \").strip().lower()\n",
    "    \n",
    "    if confirm == \"y\":\n",
    "        print(f\"\\n=== 주문 완료 ===\\n{menu_name} {b}개\\n총 금액: {total_price}원\\n\")\n",
    "        break\n",
    "    else:\n",
    "        print(\"\\n다시 주문을 진행합니다.\\n\")\n"
   ]
  },
  {
   "cell_type": "code",
   "execution_count": null,
   "id": "822b66ba-d733-47e9-9cb8-3f083d63b460",
   "metadata": {},
   "outputs": [],
   "source": [
    "print(\"1. 짜장면 - 8000원 \\n2. 짬뽕 - 9000원 \\n3. 탕수육 - 13000원\")\n",
    "\n",
    "menu = {\n",
    "    1: (\"짜장면\", 8000),\n",
    "    2: (\"짬뽕\", 9000),\n",
    "    3: (\"탕수육\", 13000)\n",
    "}\n",
    "\n",
    "order_list = []\n",
    "total_price = 0\n",
    "\n",
    "while True:\n",
    "    a = input(\"메뉴를 숫자로 선택하시오 (기본: 1): \") or \"1\"\n",
    "    \n",
    "    if not a.isdigit() or int(a) not in menu:\n",
    "        print(\"잘못된 메뉴 번호입니다. 다시 입력해주세요.\")\n",
    "        continue\n",
    "    \n",
    "    a = int(a)\n",
    "    menu_name, menu_price = menu[a]\n",
    "    \n",
    "    b = input(f\"\\n{menu_name} 몇 개를 주문하시겠습니까? (기본: 1): \") or \"1\"\n",
    "    \n",
    "    if not b.isdigit() or int(b) <= 0:\n",
    "        print(\"잘못된 주문 갯수입니다. 다시 입력해주세요.\")\n",
    "        continue\n",
    "    \n",
    "    b = int(b)\n",
    "    total_price += menu_price * b\n",
    "    order_list.append((menu_name, b))\n",
    "    \n",
    "    confirm = input(\"추가 주문을 하시겠습니까? (y/n): \").strip().lower()\n",
    "    \n",
    "    if confirm == \"n\":\n",
    "        print(\"\\n=== 주문 완료 ===\")\n",
    "        for item, qty in order_list:\n",
    "            print(f\"{item} {qty}개\")\n",
    "        print(f\"\\n총 금액: {total_price}원\\n\")\n",
    "        break\n"
   ]
  },
  {
   "cell_type": "code",
   "execution_count": null,
   "id": "974deca2-7031-4762-9fe9-403fb35b01ff",
   "metadata": {},
   "outputs": [],
   "source": []
  },
  {
   "cell_type": "code",
   "execution_count": null,
   "id": "9b330f3f-78f2-4714-a14f-8adfbc9c4c6c",
   "metadata": {},
   "outputs": [],
   "source": []
  }
 ],
 "metadata": {
  "kernelspec": {
   "display_name": "Python 3 (ipykernel)",
   "language": "python",
   "name": "python3"
  },
  "language_info": {
   "codemirror_mode": {
    "name": "ipython",
    "version": 3
   },
   "file_extension": ".py",
   "mimetype": "text/x-python",
   "name": "python",
   "nbconvert_exporter": "python",
   "pygments_lexer": "ipython3",
   "version": "3.12.7"
  }
 },
 "nbformat": 4,
 "nbformat_minor": 5
}

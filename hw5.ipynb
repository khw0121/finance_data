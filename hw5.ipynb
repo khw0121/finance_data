{
 "cells": [
  {
   "cell_type": "code",
   "execution_count": 15,
   "id": "4831e24b-cfbe-4301-8031-d4afdebe47bc",
   "metadata": {},
   "outputs": [],
   "source": [
    "import pandas as pd\n",
    "\n",
    "df = pd.read_excel('상품검색.xlsx')\n",
    "df['상장연도'] = pd.to_datetime(df['상장일']).dt.year\n",
    "df['자산항목'] = df['분류체계'].str.split('-').str[0]\n",
    "df_clean = df.dropna(subset=['수익률(최근 1년)'])\n",
    "\n",
    "best_by_firm = df_clean.loc[df_clean.groupby('운용사')['수익률(최근 1년)'].idxmax()]\n",
    "best_by_asset = df_clean.loc[df_clean.groupby('자산항목')['수익률(최근 1년)'].idxmax()]\n",
    "etf_count = df.groupby(['운용사', '상장연도']).size().reset_index(name='ETF수')\n",
    "\n",
    "with pd.ExcelWriter('숙제5.xlsx', engine='openpyxl') as writer:\n",
    "    best_by_firm.to_excel(writer, sheet_name='Sheet1', index=False)\n",
    "    etf_count.to_excel(writer, sheet_name='Sheet2', index=False)\n",
    "    best_by_asset.to_excel(writer, sheet_name='Sheet3', index=False)\n"
   ]
  }
 ],
 "metadata": {
  "kernelspec": {
   "display_name": "Python 3 (ipykernel)",
   "language": "python",
   "name": "python3"
  },
  "language_info": {
   "codemirror_mode": {
    "name": "ipython",
    "version": 3
   },
   "file_extension": ".py",
   "mimetype": "text/x-python",
   "name": "python",
   "nbconvert_exporter": "python",
   "pygments_lexer": "ipython3",
   "version": "3.12.7"
  }
 },
 "nbformat": 4,
 "nbformat_minor": 5
}
